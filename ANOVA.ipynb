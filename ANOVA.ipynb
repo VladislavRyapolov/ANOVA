{
 "cells": [
  {
   "cell_type": "markdown",
   "metadata": {},
   "source": [
    "## ANOVA на практике"
   ]
  },
  {
   "cell_type": "code",
   "execution_count": 1,
   "metadata": {},
   "outputs": [
    {
     "name": "stderr",
     "output_type": "stream",
     "text": [
      "/opt/tljh/user/lib/python3.7/site-packages/outdated/utils.py:18: OutdatedCacheFailedWarning: Failed to use cache while checking for outdated package.\n",
      "Set the environment variable OUTDATED_RAISE_EXCEPTION=1 for a full traceback.\n",
      "Set the environment variable OUTDATED_IGNORE=1 to disable these warnings.\n",
      "  **kwargs\n",
      "/opt/tljh/user/lib/python3.7/site-packages/outdated/utils.py:18: OutdatedPackageWarning: The package pingouin is out of date. Your version is 0.4.0, the latest is 0.5.2.\n",
      "Set the environment variable OUTDATED_IGNORE=1 to disable these warnings.\n",
      "  **kwargs\n"
     ]
    }
   ],
   "source": [
    "import pandas as pd\n",
    "import numpy as np\n",
    "\n",
    "import scipy.stats as ss\n",
    "import statsmodels.api as sm\n",
    "import statsmodels.formula.api as smf\n",
    "from statsmodels.stats.api import anova_lm\n",
    "from statsmodels.stats.multicomp import (pairwise_tukeyhsd,\n",
    "                                        MultiComparison)\n",
    "import pingouin as pg\n",
    "\n",
    "import matplotlib.pyplot as plt\n",
    "import seaborn as sns"
   ]
  },
  {
   "cell_type": "code",
   "execution_count": 2,
   "metadata": {},
   "outputs": [],
   "source": [
    "# Загрузим первые данные\n",
    "\n",
    "post_likes = pd.read_csv('post_likes.csv')"
   ]
  },
  {
   "cell_type": "code",
   "execution_count": 3,
   "metadata": {},
   "outputs": [
    {
     "data": {
      "text/html": [
       "<div>\n",
       "<style scoped>\n",
       "    .dataframe tbody tr th:only-of-type {\n",
       "        vertical-align: middle;\n",
       "    }\n",
       "\n",
       "    .dataframe tbody tr th {\n",
       "        vertical-align: top;\n",
       "    }\n",
       "\n",
       "    .dataframe thead th {\n",
       "        text-align: right;\n",
       "    }\n",
       "</style>\n",
       "<table border=\"1\" class=\"dataframe\">\n",
       "  <thead>\n",
       "    <tr style=\"text-align: right;\">\n",
       "      <th></th>\n",
       "      <th>id</th>\n",
       "      <th>button</th>\n",
       "      <th>likes</th>\n",
       "    </tr>\n",
       "  </thead>\n",
       "  <tbody>\n",
       "    <tr>\n",
       "      <th>0</th>\n",
       "      <td>S001</td>\n",
       "      <td>red</td>\n",
       "      <td>160</td>\n",
       "    </tr>\n",
       "    <tr>\n",
       "      <th>1</th>\n",
       "      <td>S002</td>\n",
       "      <td>red</td>\n",
       "      <td>150</td>\n",
       "    </tr>\n",
       "    <tr>\n",
       "      <th>2</th>\n",
       "      <td>S003</td>\n",
       "      <td>red</td>\n",
       "      <td>150</td>\n",
       "    </tr>\n",
       "    <tr>\n",
       "      <th>3</th>\n",
       "      <td>S004</td>\n",
       "      <td>red</td>\n",
       "      <td>150</td>\n",
       "    </tr>\n",
       "    <tr>\n",
       "      <th>4</th>\n",
       "      <td>S005</td>\n",
       "      <td>red</td>\n",
       "      <td>187</td>\n",
       "    </tr>\n",
       "  </tbody>\n",
       "</table>\n",
       "</div>"
      ],
      "text/plain": [
       "     id button  likes\n",
       "0  S001    red    160\n",
       "1  S002    red    150\n",
       "2  S003    red    150\n",
       "3  S004    red    150\n",
       "4  S005    red    187"
      ]
     },
     "execution_count": 3,
     "metadata": {},
     "output_type": "execute_result"
    }
   ],
   "source": [
    "post_likes.head()"
   ]
  },
  {
   "cell_type": "markdown",
   "metadata": {},
   "source": [
    "Рисуем графики:"
   ]
  },
  {
   "cell_type": "code",
   "execution_count": 4,
   "metadata": {},
   "outputs": [
    {
     "data": {
      "text/plain": [
       "<matplotlib.axes._subplots.AxesSubplot at 0x7f72bc90d668>"
      ]
     },
     "execution_count": 4,
     "metadata": {},
     "output_type": "execute_result"
    },
    {
     "data": {
      "image/png": "[encoded data removed]",
      "text/plain": [
       "<Figure size 432x288 with 1 Axes>"
      ]
     },
     "metadata": {
      "needs_background": "light"
     },
     "output_type": "display_data"
    }
   ],
   "source": [
    "# боксплот\n",
    "\n",
    "sns.boxplot(x='button', y='likes', data=post_likes, palette=['r', 'g', 'b'])"
   ]
  },
  {
   "cell_type": "code",
   "execution_count": 5,
   "metadata": {},
   "outputs": [
    {
     "data": {
      "text/plain": [
       "<matplotlib.axes._subplots.AxesSubplot at 0x7f72bc3b3be0>"
      ]
     },
     "execution_count": 5,
     "metadata": {},
     "output_type": "execute_result"
    },
    {
     "data": {
      "image/png": "[encoded data removed]",
      "text/plain": [
       "<Figure size 432x288 with 1 Axes>"
      ]
     },
     "metadata": {
      "needs_background": "light"
     },
     "output_type": "display_data"
    }
   ],
   "source": [
    "# скрипичный график\n",
    "\n",
    "sns.violinplot(x='button', y='likes', data=post_likes, palette=['r', 'g', 'b'])"
   ]
  },
  {
   "cell_type": "code",
   "execution_count": 6,
   "metadata": {},
   "outputs": [
    {
     "data": {
      "text/plain": [
       "<matplotlib.axes._subplots.AxesSubplot at 0x7f72ae058da0>"
      ]
     },
     "execution_count": 6,
     "metadata": {},
     "output_type": "execute_result"
    },
    {
     "data": {
      "image/png": "[encoded data removed]",
      "text/plain": [
       "<Figure size 432x288 with 1 Axes>"
      ]
     },
     "metadata": {
      "needs_background": "light"
     },
     "output_type": "display_data"
    }
   ],
   "source": [
    "# скрипичный график для наблюдателей с цветовой слепотой\n",
    "\n",
    "sns.violinplot(x='button', y='likes', data=post_likes, palette='colorblind')"
   ]
  },
  {
   "cell_type": "code",
   "execution_count": 7,
   "metadata": {},
   "outputs": [
    {
     "data": {
      "text/plain": [
       "<matplotlib.axes._subplots.AxesSubplot at 0x7f72adfd84e0>"
      ]
     },
     "execution_count": 7,
     "metadata": {},
     "output_type": "execute_result"
    },
    {
     "data": {
      "image/png": "[encoded data removed]",
      "text/plain": [
       "<Figure size 432x288 with 1 Axes>"
      ]
     },
     "metadata": {
      "needs_background": "light"
     },
     "output_type": "display_data"
    }
   ],
   "source": [
    "# средние с доверительными интервалами\n",
    "\n",
    "sns.pointplot(x='button', y='likes', data=post_likes, palette=['r', 'g', 'b'])"
   ]
  },
  {
   "cell_type": "markdown",
   "metadata": {},
   "source": [
    "Три способа посчитать однофакторый ANOVA"
   ]
  },
  {
   "cell_type": "code",
   "execution_count": 8,
   "metadata": {},
   "outputs": [],
   "source": [
    "# через scipy\n",
    "\n",
    "red = post_likes.query('button == \"red\"').likes\n",
    "green = post_likes.query('button == \"green\"').likes\n",
    "blue = post_likes.query('button == \"blue\"').likes"
   ]
  },
  {
   "cell_type": "code",
   "execution_count": 16,
   "metadata": {},
   "outputs": [
    {
     "data": {
      "text/plain": [
       "F_onewayResult(statistic=85.99631112614011, pvalue=3.4370045810218544e-30)"
      ]
     },
     "execution_count": 16,
     "metadata": {},
     "output_type": "execute_result"
    }
   ],
   "source": [
    "ss.f_oneway(red, green, blue)"
   ]
  },
  {
   "cell_type": "code",
   "execution_count": 17,
   "metadata": {},
   "outputs": [
    {
     "data": {
      "text/html": [
       "<div>\n",
       "<style scoped>\n",
       "    .dataframe tbody tr th:only-of-type {\n",
       "        vertical-align: middle;\n",
       "    }\n",
       "\n",
       "    .dataframe tbody tr th {\n",
       "        vertical-align: top;\n",
       "    }\n",
       "\n",
       "    .dataframe thead th {\n",
       "        text-align: right;\n",
       "    }\n",
       "</style>\n",
       "<table border=\"1\" class=\"dataframe\">\n",
       "  <thead>\n",
       "    <tr style=\"text-align: right;\">\n",
       "      <th></th>\n",
       "      <th>df</th>\n",
       "      <th>sum_sq</th>\n",
       "      <th>mean_sq</th>\n",
       "      <th>F</th>\n",
       "      <th>PR(&gt;F)</th>\n",
       "    </tr>\n",
       "  </thead>\n",
       "  <tbody>\n",
       "    <tr>\n",
       "      <th>C(button)</th>\n",
       "      <td>2.0</td>\n",
       "      <td>201960.286667</td>\n",
       "      <td>100980.143333</td>\n",
       "      <td>85.996311</td>\n",
       "      <td>3.437005e-30</td>\n",
       "    </tr>\n",
       "    <tr>\n",
       "      <th>Residual</th>\n",
       "      <td>297.0</td>\n",
       "      <td>348748.710000</td>\n",
       "      <td>1174.238081</td>\n",
       "      <td>NaN</td>\n",
       "      <td>NaN</td>\n",
       "    </tr>\n",
       "  </tbody>\n",
       "</table>\n",
       "</div>"
      ],
      "text/plain": [
       "              df         sum_sq        mean_sq          F        PR(>F)\n",
       "C(button)    2.0  201960.286667  100980.143333  85.996311  3.437005e-30\n",
       "Residual   297.0  348748.710000    1174.238081        NaN           NaN"
      ]
     },
     "execution_count": 17,
     "metadata": {},
     "output_type": "execute_result"
    }
   ],
   "source": [
    "# через statsmodels\n",
    "\n",
    "model = smf.ols(formula = \"likes ~ C(button)\", data = post_likes).fit()\n",
    "anova_lm(model)"
   ]
  },
  {
   "cell_type": "code",
   "execution_count": 18,
   "metadata": {},
   "outputs": [
    {
     "data": {
      "text/html": [
       "<div>\n",
       "<style scoped>\n",
       "    .dataframe tbody tr th:only-of-type {\n",
       "        vertical-align: middle;\n",
       "    }\n",
       "\n",
       "    .dataframe tbody tr th {\n",
       "        vertical-align: top;\n",
       "    }\n",
       "\n",
       "    .dataframe thead th {\n",
       "        text-align: right;\n",
       "    }\n",
       "</style>\n",
       "<table border=\"1\" class=\"dataframe\">\n",
       "  <thead>\n",
       "    <tr style=\"text-align: right;\">\n",
       "      <th></th>\n",
       "      <th>Source</th>\n",
       "      <th>ddof1</th>\n",
       "      <th>ddof2</th>\n",
       "      <th>F</th>\n",
       "      <th>p-unc</th>\n",
       "      <th>np2</th>\n",
       "    </tr>\n",
       "  </thead>\n",
       "  <tbody>\n",
       "    <tr>\n",
       "      <th>0</th>\n",
       "      <td>button</td>\n",
       "      <td>2</td>\n",
       "      <td>297</td>\n",
       "      <td>85.996311</td>\n",
       "      <td>3.437005e-30</td>\n",
       "      <td>0.366728</td>\n",
       "    </tr>\n",
       "  </tbody>\n",
       "</table>\n",
       "</div>"
      ],
      "text/plain": [
       "   Source  ddof1  ddof2          F         p-unc       np2\n",
       "0  button      2    297  85.996311  3.437005e-30  0.366728"
      ]
     },
     "execution_count": 18,
     "metadata": {},
     "output_type": "execute_result"
    }
   ],
   "source": [
    "# Через pingouin\n",
    "\n",
    "pg.anova(data=post_likes, dv='likes', between='button')"
   ]
  },
  {
   "cell_type": "code",
   "execution_count": 12,
   "metadata": {},
   "outputs": [],
   "source": [
    "# Вывод: группы действительно различаются между собой, отклоняем H0 о равенстве средних значений!"
   ]
  },
  {
   "cell_type": "code",
   "execution_count": null,
   "metadata": {},
   "outputs": [],
   "source": []
  },
  {
   "cell_type": "code",
   "execution_count": null,
   "metadata": {},
   "outputs": [],
   "source": []
  },
  {
   "cell_type": "code",
   "execution_count": null,
   "metadata": {},
   "outputs": [],
   "source": []
  },
  {
   "cell_type": "markdown",
   "metadata": {},
   "source": [
    "Тестируем нормальность:"
   ]
  },
  {
   "cell_type": "code",
   "execution_count": 21,
   "metadata": {},
   "outputs": [
    {
     "name": "stdout",
     "output_type": "stream",
     "text": [
      "ShapiroResult(statistic=0.988104522228241, pvalue=0.515945315361023)\n",
      "ShapiroResult(statistic=0.9887180328369141, pvalue=0.5625539422035217)\n",
      "ShapiroResult(statistic=0.9937936663627625, pvalue=0.9309920072555542)\n"
     ]
    }
   ],
   "source": [
    "# через scipy\n",
    "\n",
    "print(ss.shapiro(red))\n",
    "print(ss.shapiro(green))\n",
    "print(ss.shapiro(blue))"
   ]
  },
  {
   "cell_type": "code",
   "execution_count": 22,
   "metadata": {},
   "outputs": [
    {
     "name": "stdout",
     "output_type": "stream",
     "text": [
      "NormaltestResult(statistic=1.8343585907539965, pvalue=0.3996447324611219)\n",
      "NormaltestResult(statistic=0.6727062715909409, pvalue=0.7143707913703767)\n",
      "NormaltestResult(statistic=0.4606964500747045, pvalue=0.7942569741771747)\n"
     ]
    }
   ],
   "source": [
    "# другой вариант\n",
    "\n",
    "print(ss.normaltest(red))\n",
    "print(ss.normaltest(green))\n",
    "print(ss.normaltest(blue))"
   ]
  },
  {
   "cell_type": "code",
   "execution_count": 23,
   "metadata": {},
   "outputs": [
    {
     "data": {
      "text/html": [
       "<div>\n",
       "<style scoped>\n",
       "    .dataframe tbody tr th:only-of-type {\n",
       "        vertical-align: middle;\n",
       "    }\n",
       "\n",
       "    .dataframe tbody tr th {\n",
       "        vertical-align: top;\n",
       "    }\n",
       "\n",
       "    .dataframe thead th {\n",
       "        text-align: right;\n",
       "    }\n",
       "</style>\n",
       "<table border=\"1\" class=\"dataframe\">\n",
       "  <thead>\n",
       "    <tr style=\"text-align: right;\">\n",
       "      <th></th>\n",
       "      <th>W</th>\n",
       "      <th>pval</th>\n",
       "      <th>normal</th>\n",
       "    </tr>\n",
       "  </thead>\n",
       "  <tbody>\n",
       "    <tr>\n",
       "      <th>red</th>\n",
       "      <td>1.834359</td>\n",
       "      <td>0.399645</td>\n",
       "      <td>True</td>\n",
       "    </tr>\n",
       "    <tr>\n",
       "      <th>green</th>\n",
       "      <td>0.672706</td>\n",
       "      <td>0.714371</td>\n",
       "      <td>True</td>\n",
       "    </tr>\n",
       "    <tr>\n",
       "      <th>blue</th>\n",
       "      <td>0.460696</td>\n",
       "      <td>0.794257</td>\n",
       "      <td>True</td>\n",
       "    </tr>\n",
       "  </tbody>\n",
       "</table>\n",
       "</div>"
      ],
      "text/plain": [
       "              W      pval  normal\n",
       "red    1.834359  0.399645    True\n",
       "green  0.672706  0.714371    True\n",
       "blue   0.460696  0.794257    True"
      ]
     },
     "execution_count": 23,
     "metadata": {},
     "output_type": "execute_result"
    }
   ],
   "source": [
    "# Через pingouin\n",
    "\n",
    "pg.normality(data=post_likes, dv='likes', group='button', method='normaltest')"
   ]
  },
  {
   "cell_type": "code",
   "execution_count": 24,
   "metadata": {},
   "outputs": [],
   "source": [
    "# Через qq-графики"
   ]
  },
  {
   "cell_type": "code",
   "execution_count": 25,
   "metadata": {},
   "outputs": [
    {
     "data": {
      "image/png": "[encoded data removed]",
      "text/plain": [
       "<Figure size 432x288 with 1 Axes>"
      ]
     },
     "execution_count": 25,
     "metadata": {},
     "output_type": "execute_result"
    },
    {
     "data": {
      "image/png": "[encoded data removed]",
      "text/plain": [
       "<Figure size 432x288 with 1 Axes>"
      ]
     },
     "metadata": {
      "needs_background": "light"
     },
     "output_type": "display_data"
    }
   ],
   "source": [
    "sm.qqplot(blue, line='r')"
   ]
  },
  {
   "cell_type": "code",
   "execution_count": 26,
   "metadata": {},
   "outputs": [
    {
     "data": {
      "text/plain": [
       "<matplotlib.axes._subplots.AxesSubplot at 0x7f7288f2f080>"
      ]
     },
     "execution_count": 26,
     "metadata": {},
     "output_type": "execute_result"
    },
    {
     "data": {
      "image/png": "[encoded data removed]",
      "text/plain": [
       "<Figure size 360x288 with 1 Axes>"
      ]
     },
     "metadata": {
      "needs_background": "light"
     },
     "output_type": "display_data"
    }
   ],
   "source": [
    "pg.qqplot(blue)"
   ]
  },
  {
   "cell_type": "markdown",
   "metadata": {},
   "source": [
    "Тестируем различия в дисперсиях:"
   ]
  },
  {
   "cell_type": "code",
   "execution_count": 27,
   "metadata": {},
   "outputs": [
    {
     "data": {
      "text/plain": [
       "LeveneResult(statistic=35.214282435572876, pvalue=1.8886636651084242e-14)"
      ]
     },
     "execution_count": 27,
     "metadata": {},
     "output_type": "execute_result"
    }
   ],
   "source": [
    "# через scipy\n",
    "\n",
    "ss.levene(red, green, blue)"
   ]
  },
  {
   "cell_type": "code",
   "execution_count": 28,
   "metadata": {},
   "outputs": [
    {
     "data": {
      "text/html": [
       "<div>\n",
       "<style scoped>\n",
       "    .dataframe tbody tr th:only-of-type {\n",
       "        vertical-align: middle;\n",
       "    }\n",
       "\n",
       "    .dataframe tbody tr th {\n",
       "        vertical-align: top;\n",
       "    }\n",
       "\n",
       "    .dataframe thead th {\n",
       "        text-align: right;\n",
       "    }\n",
       "</style>\n",
       "<table border=\"1\" class=\"dataframe\">\n",
       "  <thead>\n",
       "    <tr style=\"text-align: right;\">\n",
       "      <th></th>\n",
       "      <th>W</th>\n",
       "      <th>pval</th>\n",
       "      <th>equal_var</th>\n",
       "    </tr>\n",
       "  </thead>\n",
       "  <tbody>\n",
       "    <tr>\n",
       "      <th>levene</th>\n",
       "      <td>35.214282</td>\n",
       "      <td>1.888664e-14</td>\n",
       "      <td>False</td>\n",
       "    </tr>\n",
       "  </tbody>\n",
       "</table>\n",
       "</div>"
      ],
      "text/plain": [
       "                W          pval  equal_var\n",
       "levene  35.214282  1.888664e-14      False"
      ]
     },
     "execution_count": 28,
     "metadata": {},
     "output_type": "execute_result"
    }
   ],
   "source": [
    "# Через pingouin\n",
    "\n",
    "pg.homoscedasticity(data=post_likes, dv='likes', group='button')"
   ]
  },
  {
   "cell_type": "code",
   "execution_count": null,
   "metadata": {},
   "outputs": [],
   "source": []
  },
  {
   "cell_type": "code",
   "execution_count": 29,
   "metadata": {},
   "outputs": [],
   "source": [
    "# Поскольку дисперсии не равны, необходимо использовать поправку, например ANOVA Уэлча"
   ]
  },
  {
   "cell_type": "code",
   "execution_count": 30,
   "metadata": {},
   "outputs": [
    {
     "data": {
      "text/html": [
       "<div>\n",
       "<style scoped>\n",
       "    .dataframe tbody tr th:only-of-type {\n",
       "        vertical-align: middle;\n",
       "    }\n",
       "\n",
       "    .dataframe tbody tr th {\n",
       "        vertical-align: top;\n",
       "    }\n",
       "\n",
       "    .dataframe thead th {\n",
       "        text-align: right;\n",
       "    }\n",
       "</style>\n",
       "<table border=\"1\" class=\"dataframe\">\n",
       "  <thead>\n",
       "    <tr style=\"text-align: right;\">\n",
       "      <th></th>\n",
       "      <th>Source</th>\n",
       "      <th>ddof1</th>\n",
       "      <th>ddof2</th>\n",
       "      <th>F</th>\n",
       "      <th>p-unc</th>\n",
       "      <th>np2</th>\n",
       "    </tr>\n",
       "  </thead>\n",
       "  <tbody>\n",
       "    <tr>\n",
       "      <th>0</th>\n",
       "      <td>button</td>\n",
       "      <td>2</td>\n",
       "      <td>182.958104</td>\n",
       "      <td>177.856578</td>\n",
       "      <td>1.255660e-43</td>\n",
       "      <td>0.366728</td>\n",
       "    </tr>\n",
       "  </tbody>\n",
       "</table>\n",
       "</div>"
      ],
      "text/plain": [
       "   Source  ddof1       ddof2           F         p-unc       np2\n",
       "0  button      2  182.958104  177.856578  1.255660e-43  0.366728"
      ]
     },
     "execution_count": 30,
     "metadata": {},
     "output_type": "execute_result"
    }
   ],
   "source": [
    "# ANOVA Уэлча в pingouin\n",
    "\n",
    "pg.welch_anova(data=post_likes, dv='likes', between='button')"
   ]
  },
  {
   "cell_type": "code",
   "execution_count": null,
   "metadata": {},
   "outputs": [],
   "source": []
  },
  {
   "cell_type": "markdown",
   "metadata": {},
   "source": [
    "## Множественные сравнения"
   ]
  },
  {
   "cell_type": "code",
   "execution_count": 31,
   "metadata": {},
   "outputs": [
    {
     "data": {
      "text/html": [
       "<div>\n",
       "<style scoped>\n",
       "    .dataframe tbody tr th:only-of-type {\n",
       "        vertical-align: middle;\n",
       "    }\n",
       "\n",
       "    .dataframe tbody tr th {\n",
       "        vertical-align: top;\n",
       "    }\n",
       "\n",
       "    .dataframe thead th {\n",
       "        text-align: right;\n",
       "    }\n",
       "</style>\n",
       "<table border=\"1\" class=\"dataframe\">\n",
       "  <thead>\n",
       "    <tr style=\"text-align: right;\">\n",
       "      <th></th>\n",
       "      <th>Contrast</th>\n",
       "      <th>A</th>\n",
       "      <th>B</th>\n",
       "      <th>Paired</th>\n",
       "      <th>Parametric</th>\n",
       "      <th>T</th>\n",
       "      <th>dof</th>\n",
       "      <th>alternative</th>\n",
       "      <th>p-unc</th>\n",
       "      <th>BF10</th>\n",
       "      <th>hedges</th>\n",
       "    </tr>\n",
       "  </thead>\n",
       "  <tbody>\n",
       "    <tr>\n",
       "      <th>0</th>\n",
       "      <td>button</td>\n",
       "      <td>blue</td>\n",
       "      <td>green</td>\n",
       "      <td>False</td>\n",
       "      <td>True</td>\n",
       "      <td>8.591097</td>\n",
       "      <td>198.0</td>\n",
       "      <td>two-sided</td>\n",
       "      <td>2.561866e-15</td>\n",
       "      <td>2.025e+12</td>\n",
       "      <td>1.210357</td>\n",
       "    </tr>\n",
       "    <tr>\n",
       "      <th>1</th>\n",
       "      <td>button</td>\n",
       "      <td>blue</td>\n",
       "      <td>red</td>\n",
       "      <td>False</td>\n",
       "      <td>True</td>\n",
       "      <td>18.769214</td>\n",
       "      <td>198.0</td>\n",
       "      <td>two-sided</td>\n",
       "      <td>7.952330e-46</td>\n",
       "      <td>1.582e+42</td>\n",
       "      <td>2.644301</td>\n",
       "    </tr>\n",
       "    <tr>\n",
       "      <th>2</th>\n",
       "      <td>button</td>\n",
       "      <td>green</td>\n",
       "      <td>red</td>\n",
       "      <td>False</td>\n",
       "      <td>True</td>\n",
       "      <td>2.240189</td>\n",
       "      <td>198.0</td>\n",
       "      <td>two-sided</td>\n",
       "      <td>2.619001e-02</td>\n",
       "      <td>1.583</td>\n",
       "      <td>0.315609</td>\n",
       "    </tr>\n",
       "  </tbody>\n",
       "</table>\n",
       "</div>"
      ],
      "text/plain": [
       "  Contrast      A      B  Paired  Parametric          T    dof alternative  \\\n",
       "0   button   blue  green   False        True   8.591097  198.0   two-sided   \n",
       "1   button   blue    red   False        True  18.769214  198.0   two-sided   \n",
       "2   button  green    red   False        True   2.240189  198.0   two-sided   \n",
       "\n",
       "          p-unc       BF10    hedges  \n",
       "0  2.561866e-15  2.025e+12  1.210357  \n",
       "1  7.952330e-46  1.582e+42  2.644301  \n",
       "2  2.619001e-02      1.583  0.315609  "
      ]
     },
     "execution_count": 31,
     "metadata": {},
     "output_type": "execute_result"
    }
   ],
   "source": [
    "# попарные сравнения без поправки\n",
    "\n",
    "pg.pairwise_ttests(data=post_likes, dv='likes', between='button')"
   ]
  },
  {
   "cell_type": "code",
   "execution_count": 32,
   "metadata": {},
   "outputs": [
    {
     "data": {
      "text/plain": [
       "0.02619001"
      ]
     },
     "execution_count": 32,
     "metadata": {},
     "output_type": "execute_result"
    }
   ],
   "source": [
    "2.619001e-02"
   ]
  },
  {
   "cell_type": "code",
   "execution_count": 38,
   "metadata": {},
   "outputs": [
    {
     "data": {
      "text/html": [
       "<div>\n",
       "<style scoped>\n",
       "    .dataframe tbody tr th:only-of-type {\n",
       "        vertical-align: middle;\n",
       "    }\n",
       "\n",
       "    .dataframe tbody tr th {\n",
       "        vertical-align: top;\n",
       "    }\n",
       "\n",
       "    .dataframe thead th {\n",
       "        text-align: right;\n",
       "    }\n",
       "</style>\n",
       "<table border=\"1\" class=\"dataframe\">\n",
       "  <thead>\n",
       "    <tr style=\"text-align: right;\">\n",
       "      <th></th>\n",
       "      <th>Contrast</th>\n",
       "      <th>A</th>\n",
       "      <th>B</th>\n",
       "      <th>Paired</th>\n",
       "      <th>Parametric</th>\n",
       "      <th>T</th>\n",
       "      <th>dof</th>\n",
       "      <th>alternative</th>\n",
       "      <th>p-unc</th>\n",
       "      <th>p-corr</th>\n",
       "      <th>p-adjust</th>\n",
       "      <th>BF10</th>\n",
       "      <th>hedges</th>\n",
       "    </tr>\n",
       "  </thead>\n",
       "  <tbody>\n",
       "    <tr>\n",
       "      <th>0</th>\n",
       "      <td>button</td>\n",
       "      <td>blue</td>\n",
       "      <td>green</td>\n",
       "      <td>False</td>\n",
       "      <td>True</td>\n",
       "      <td>8.591097</td>\n",
       "      <td>198.0</td>\n",
       "      <td>two-sided</td>\n",
       "      <td>2.561866e-15</td>\n",
       "      <td>7.685599e-15</td>\n",
       "      <td>bonf</td>\n",
       "      <td>2.025e+12</td>\n",
       "      <td>1.210357</td>\n",
       "    </tr>\n",
       "    <tr>\n",
       "      <th>1</th>\n",
       "      <td>button</td>\n",
       "      <td>blue</td>\n",
       "      <td>red</td>\n",
       "      <td>False</td>\n",
       "      <td>True</td>\n",
       "      <td>18.769214</td>\n",
       "      <td>198.0</td>\n",
       "      <td>two-sided</td>\n",
       "      <td>7.952330e-46</td>\n",
       "      <td>2.385699e-45</td>\n",
       "      <td>bonf</td>\n",
       "      <td>1.582e+42</td>\n",
       "      <td>2.644301</td>\n",
       "    </tr>\n",
       "    <tr>\n",
       "      <th>2</th>\n",
       "      <td>button</td>\n",
       "      <td>green</td>\n",
       "      <td>red</td>\n",
       "      <td>False</td>\n",
       "      <td>True</td>\n",
       "      <td>2.240189</td>\n",
       "      <td>198.0</td>\n",
       "      <td>two-sided</td>\n",
       "      <td>2.619001e-02</td>\n",
       "      <td>7.857004e-02</td>\n",
       "      <td>bonf</td>\n",
       "      <td>1.583</td>\n",
       "      <td>0.315609</td>\n",
       "    </tr>\n",
       "  </tbody>\n",
       "</table>\n",
       "</div>"
      ],
      "text/plain": [
       "  Contrast      A      B  Paired  Parametric          T    dof alternative  \\\n",
       "0   button   blue  green   False        True   8.591097  198.0   two-sided   \n",
       "1   button   blue    red   False        True  18.769214  198.0   two-sided   \n",
       "2   button  green    red   False        True   2.240189  198.0   two-sided   \n",
       "\n",
       "          p-unc        p-corr p-adjust       BF10    hedges  \n",
       "0  2.561866e-15  7.685599e-15     bonf  2.025e+12  1.210357  \n",
       "1  7.952330e-46  2.385699e-45     bonf  1.582e+42  2.644301  \n",
       "2  2.619001e-02  7.857004e-02     bonf      1.583  0.315609  "
      ]
     },
     "execution_count": 38,
     "metadata": {},
     "output_type": "execute_result"
    }
   ],
   "source": [
    "# попарные сравнения с поправкой Бонферрони (В рамках этого метода нам нужно разделить уровень значимости на \n",
    "# количество попарных сравнений, и считать различия значимыми только в том случае, если p-значение меньше нового порога)\n",
    "\n",
    "pg.pairwise_ttests(data=post_likes, dv='likes', between='button', padjust='bonf')"
   ]
  },
  {
   "cell_type": "code",
   "execution_count": 34,
   "metadata": {},
   "outputs": [
    {
     "data": {
      "text/plain": [
       "0.07857004"
      ]
     },
     "execution_count": 34,
     "metadata": {},
     "output_type": "execute_result"
    }
   ],
   "source": [
    "7.857004e-02"
   ]
  },
  {
   "cell_type": "code",
   "execution_count": 37,
   "metadata": {},
   "outputs": [
    {
     "data": {
      "text/html": [
       "<div>\n",
       "<style scoped>\n",
       "    .dataframe tbody tr th:only-of-type {\n",
       "        vertical-align: middle;\n",
       "    }\n",
       "\n",
       "    .dataframe tbody tr th {\n",
       "        vertical-align: top;\n",
       "    }\n",
       "\n",
       "    .dataframe thead th {\n",
       "        text-align: right;\n",
       "    }\n",
       "</style>\n",
       "<table border=\"1\" class=\"dataframe\">\n",
       "  <thead>\n",
       "    <tr style=\"text-align: right;\">\n",
       "      <th></th>\n",
       "      <th>A</th>\n",
       "      <th>B</th>\n",
       "      <th>mean(A)</th>\n",
       "      <th>mean(B)</th>\n",
       "      <th>diff</th>\n",
       "      <th>se</th>\n",
       "      <th>T</th>\n",
       "      <th>p-tukey</th>\n",
       "      <th>hedges</th>\n",
       "    </tr>\n",
       "  </thead>\n",
       "  <tbody>\n",
       "    <tr>\n",
       "      <th>0</th>\n",
       "      <td>blue</td>\n",
       "      <td>green</td>\n",
       "      <td>210.03</td>\n",
       "      <td>162.02</td>\n",
       "      <td>48.01</td>\n",
       "      <td>4.846108</td>\n",
       "      <td>9.906919</td>\n",
       "      <td>0.001000</td>\n",
       "      <td>1.395736</td>\n",
       "    </tr>\n",
       "    <tr>\n",
       "      <th>1</th>\n",
       "      <td>blue</td>\n",
       "      <td>red</td>\n",
       "      <td>210.03</td>\n",
       "      <td>149.96</td>\n",
       "      <td>60.07</td>\n",
       "      <td>4.846108</td>\n",
       "      <td>12.395514</td>\n",
       "      <td>0.001000</td>\n",
       "      <td>1.746342</td>\n",
       "    </tr>\n",
       "    <tr>\n",
       "      <th>2</th>\n",
       "      <td>green</td>\n",
       "      <td>red</td>\n",
       "      <td>162.02</td>\n",
       "      <td>149.96</td>\n",
       "      <td>12.06</td>\n",
       "      <td>4.846108</td>\n",
       "      <td>2.488595</td>\n",
       "      <td>0.035581</td>\n",
       "      <td>0.350606</td>\n",
       "    </tr>\n",
       "  </tbody>\n",
       "</table>\n",
       "</div>"
      ],
      "text/plain": [
       "       A      B  mean(A)  mean(B)   diff        se          T   p-tukey  \\\n",
       "0   blue  green   210.03   162.02  48.01  4.846108   9.906919  0.001000   \n",
       "1   blue    red   210.03   149.96  60.07  4.846108  12.395514  0.001000   \n",
       "2  green    red   162.02   149.96  12.06  4.846108   2.488595  0.035581   \n",
       "\n",
       "     hedges  \n",
       "0  1.395736  \n",
       "1  1.746342  \n",
       "2  0.350606  "
      ]
     },
     "execution_count": 37,
     "metadata": {},
     "output_type": "execute_result"
    }
   ],
   "source": [
    "# Тест Тьюки (критерий Тьюки более консервативен, чем обычный t-критерий, \n",
    "# но гораздо менее консервативен по сравнению с поправкой Бонферрони)\n",
    "\n",
    "pg.pairwise_tukey(data=post_likes, dv='likes', between='button')"
   ]
  },
  {
   "cell_type": "code",
   "execution_count": 36,
   "metadata": {},
   "outputs": [
    {
     "data": {
      "text/plain": [
       "0.035581"
      ]
     },
     "execution_count": 36,
     "metadata": {},
     "output_type": "execute_result"
    }
   ],
   "source": [
    "0.035581"
   ]
  },
  {
   "cell_type": "code",
   "execution_count": 46,
   "metadata": {},
   "outputs": [
    {
     "data": {
      "text/html": [
       "<div>\n",
       "<style scoped>\n",
       "    .dataframe tbody tr th:only-of-type {\n",
       "        vertical-align: middle;\n",
       "    }\n",
       "\n",
       "    .dataframe tbody tr th {\n",
       "        vertical-align: top;\n",
       "    }\n",
       "\n",
       "    .dataframe thead th {\n",
       "        text-align: right;\n",
       "    }\n",
       "</style>\n",
       "<table border=\"1\" class=\"dataframe\">\n",
       "  <thead>\n",
       "    <tr style=\"text-align: right;\">\n",
       "      <th></th>\n",
       "      <th>A</th>\n",
       "      <th>B</th>\n",
       "      <th>mean(A)</th>\n",
       "      <th>mean(B)</th>\n",
       "      <th>diff</th>\n",
       "      <th>se</th>\n",
       "      <th>T</th>\n",
       "      <th>df</th>\n",
       "      <th>pval</th>\n",
       "      <th>hedges</th>\n",
       "    </tr>\n",
       "  </thead>\n",
       "  <tbody>\n",
       "    <tr>\n",
       "      <th>0</th>\n",
       "      <td>blue</td>\n",
       "      <td>green</td>\n",
       "      <td>210.03</td>\n",
       "      <td>162.02</td>\n",
       "      <td>48.01</td>\n",
       "      <td>5.588343</td>\n",
       "      <td>8.591097</td>\n",
       "      <td>145.583529</td>\n",
       "      <td>0.001000</td>\n",
       "      <td>1.210357</td>\n",
       "    </tr>\n",
       "    <tr>\n",
       "      <th>1</th>\n",
       "      <td>blue</td>\n",
       "      <td>red</td>\n",
       "      <td>210.03</td>\n",
       "      <td>149.96</td>\n",
       "      <td>60.07</td>\n",
       "      <td>3.200454</td>\n",
       "      <td>18.769214</td>\n",
       "      <td>188.902921</td>\n",
       "      <td>0.001000</td>\n",
       "      <td>2.644301</td>\n",
       "    </tr>\n",
       "    <tr>\n",
       "      <th>2</th>\n",
       "      <td>green</td>\n",
       "      <td>red</td>\n",
       "      <td>162.02</td>\n",
       "      <td>149.96</td>\n",
       "      <td>12.06</td>\n",
       "      <td>5.383475</td>\n",
       "      <td>2.240189</td>\n",
       "      <td>129.889834</td>\n",
       "      <td>0.068387</td>\n",
       "      <td>0.315609</td>\n",
       "    </tr>\n",
       "  </tbody>\n",
       "</table>\n",
       "</div>"
      ],
      "text/plain": [
       "       A      B  mean(A)  mean(B)   diff        se          T          df  \\\n",
       "0   blue  green   210.03   162.02  48.01  5.588343   8.591097  145.583529   \n",
       "1   blue    red   210.03   149.96  60.07  3.200454  18.769214  188.902921   \n",
       "2  green    red   162.02   149.96  12.06  5.383475   2.240189  129.889834   \n",
       "\n",
       "       pval    hedges  \n",
       "0  0.001000  1.210357  \n",
       "1  0.001000  2.644301  \n",
       "2  0.068387  0.315609  "
      ]
     },
     "execution_count": 46,
     "metadata": {},
     "output_type": "execute_result"
    }
   ],
   "source": [
    "# Тест Геймс-Хоувелла (т.к. группы имеют разную дисперсию, то применяется критерий Геймса-Хоувелла)\n",
    "\n",
    "pg.pairwise_gameshowell(data=post_likes, dv='likes', between='button')"
   ]
  },
  {
   "cell_type": "code",
   "execution_count": 39,
   "metadata": {},
   "outputs": [
    {
     "data": {
      "text/plain": [
       "0.068387"
      ]
     },
     "execution_count": 39,
     "metadata": {},
     "output_type": "execute_result"
    }
   ],
   "source": [
    "0.068387"
   ]
  },
  {
   "cell_type": "code",
   "execution_count": 40,
   "metadata": {},
   "outputs": [
    {
     "data": {
      "text/html": [
       "<table class=\"simpletable\">\n",
       "<caption>Multiple Comparison of Means - Tukey HSD, FWER=0.05</caption>\n",
       "<tr>\n",
       "  <th>group1</th> <th>group2</th> <th>meandiff</th>  <th>p-adj</th>   <th>lower</th>    <th>upper</th>  <th>reject</th>\n",
       "</tr>\n",
       "<tr>\n",
       "   <td>blue</td>   <td>green</td>  <td>-48.01</td>   <td>0.001</td> <td>-59.4257</td> <td>-36.5943</td>  <td>True</td> \n",
       "</tr>\n",
       "<tr>\n",
       "   <td>blue</td>    <td>red</td>   <td>-60.07</td>   <td>0.001</td> <td>-71.4857</td> <td>-48.6543</td>  <td>True</td> \n",
       "</tr>\n",
       "<tr>\n",
       "   <td>green</td>   <td>red</td>   <td>-12.06</td>  <td>0.0356</td> <td>-23.4757</td>  <td>-0.6443</td>  <td>True</td> \n",
       "</tr>\n",
       "</table>"
      ],
      "text/plain": [
       "<class 'statsmodels.iolib.table.SimpleTable'>"
      ]
     },
     "execution_count": 40,
     "metadata": {},
     "output_type": "execute_result"
    }
   ],
   "source": [
    "# Через statsmodels\n",
    "\n",
    "pairwise_tukeyhsd(post_likes.likes, post_likes.button).summary()"
   ]
  },
  {
   "cell_type": "code",
   "execution_count": 41,
   "metadata": {},
   "outputs": [
    {
     "data": {
      "text/html": [
       "<table class=\"simpletable\">\n",
       "<caption>Multiple Comparison of Means - Tukey HSD, FWER=0.05</caption>\n",
       "<tr>\n",
       "  <th>group1</th> <th>group2</th> <th>meandiff</th>  <th>p-adj</th>   <th>lower</th>    <th>upper</th>  <th>reject</th>\n",
       "</tr>\n",
       "<tr>\n",
       "   <td>blue</td>   <td>green</td>  <td>-48.01</td>   <td>0.001</td> <td>-59.4257</td> <td>-36.5943</td>  <td>True</td> \n",
       "</tr>\n",
       "<tr>\n",
       "   <td>blue</td>    <td>red</td>   <td>-60.07</td>   <td>0.001</td> <td>-71.4857</td> <td>-48.6543</td>  <td>True</td> \n",
       "</tr>\n",
       "<tr>\n",
       "   <td>green</td>   <td>red</td>   <td>-12.06</td>  <td>0.0356</td> <td>-23.4757</td>  <td>-0.6443</td>  <td>True</td> \n",
       "</tr>\n",
       "</table>"
      ],
      "text/plain": [
       "<class 'statsmodels.iolib.table.SimpleTable'>"
      ]
     },
     "execution_count": 41,
     "metadata": {},
     "output_type": "execute_result"
    }
   ],
   "source": [
    "MultiComparison(post_likes.likes, post_likes.button).tukeyhsd().summary()"
   ]
  },
  {
   "cell_type": "markdown",
   "metadata": {},
   "source": [
    "## Многофакторный ANOVA"
   ]
  },
  {
   "cell_type": "code",
   "execution_count": 37,
   "metadata": {},
   "outputs": [],
   "source": [
    "ads_clicks = pd.read_csv('ads_clicks.csv')"
   ]
  },
  {
   "cell_type": "code",
   "execution_count": 38,
   "metadata": {},
   "outputs": [
    {
     "data": {
      "text/html": [
       "<div>\n",
       "<style scoped>\n",
       "    .dataframe tbody tr th:only-of-type {\n",
       "        vertical-align: middle;\n",
       "    }\n",
       "\n",
       "    .dataframe tbody tr th {\n",
       "        vertical-align: top;\n",
       "    }\n",
       "\n",
       "    .dataframe thead th {\n",
       "        text-align: right;\n",
       "    }\n",
       "</style>\n",
       "<table border=\"1\" class=\"dataframe\">\n",
       "  <thead>\n",
       "    <tr style=\"text-align: right;\">\n",
       "      <th></th>\n",
       "      <th>id</th>\n",
       "      <th>ads</th>\n",
       "      <th>age_group</th>\n",
       "      <th>clicks</th>\n",
       "    </tr>\n",
       "  </thead>\n",
       "  <tbody>\n",
       "    <tr>\n",
       "      <th>0</th>\n",
       "      <td>S001</td>\n",
       "      <td>classic</td>\n",
       "      <td>18-27</td>\n",
       "      <td>40</td>\n",
       "    </tr>\n",
       "    <tr>\n",
       "      <th>1</th>\n",
       "      <td>S002</td>\n",
       "      <td>classic</td>\n",
       "      <td>18-27</td>\n",
       "      <td>22</td>\n",
       "    </tr>\n",
       "    <tr>\n",
       "      <th>2</th>\n",
       "      <td>S003</td>\n",
       "      <td>classic</td>\n",
       "      <td>18-27</td>\n",
       "      <td>41</td>\n",
       "    </tr>\n",
       "    <tr>\n",
       "      <th>3</th>\n",
       "      <td>S004</td>\n",
       "      <td>classic</td>\n",
       "      <td>18-27</td>\n",
       "      <td>35</td>\n",
       "    </tr>\n",
       "    <tr>\n",
       "      <th>4</th>\n",
       "      <td>S005</td>\n",
       "      <td>classic</td>\n",
       "      <td>18-27</td>\n",
       "      <td>39</td>\n",
       "    </tr>\n",
       "    <tr>\n",
       "      <th>...</th>\n",
       "      <td>...</td>\n",
       "      <td>...</td>\n",
       "      <td>...</td>\n",
       "      <td>...</td>\n",
       "    </tr>\n",
       "    <tr>\n",
       "      <th>595</th>\n",
       "      <td>S596</td>\n",
       "      <td>bold</td>\n",
       "      <td>46 and more</td>\n",
       "      <td>3</td>\n",
       "    </tr>\n",
       "    <tr>\n",
       "      <th>596</th>\n",
       "      <td>S597</td>\n",
       "      <td>bold</td>\n",
       "      <td>46 and more</td>\n",
       "      <td>5</td>\n",
       "    </tr>\n",
       "    <tr>\n",
       "      <th>597</th>\n",
       "      <td>S598</td>\n",
       "      <td>bold</td>\n",
       "      <td>46 and more</td>\n",
       "      <td>6</td>\n",
       "    </tr>\n",
       "    <tr>\n",
       "      <th>598</th>\n",
       "      <td>S599</td>\n",
       "      <td>bold</td>\n",
       "      <td>46 and more</td>\n",
       "      <td>5</td>\n",
       "    </tr>\n",
       "    <tr>\n",
       "      <th>599</th>\n",
       "      <td>S600</td>\n",
       "      <td>bold</td>\n",
       "      <td>46 and more</td>\n",
       "      <td>5</td>\n",
       "    </tr>\n",
       "  </tbody>\n",
       "</table>\n",
       "<p>600 rows × 4 columns</p>\n",
       "</div>"
      ],
      "text/plain": [
       "       id      ads    age_group  clicks\n",
       "0    S001  classic        18-27      40\n",
       "1    S002  classic        18-27      22\n",
       "2    S003  classic        18-27      41\n",
       "3    S004  classic        18-27      35\n",
       "4    S005  classic        18-27      39\n",
       "..    ...      ...          ...     ...\n",
       "595  S596     bold  46 and more       3\n",
       "596  S597     bold  46 and more       5\n",
       "597  S598     bold  46 and more       6\n",
       "598  S599     bold  46 and more       5\n",
       "599  S600     bold  46 and more       5\n",
       "\n",
       "[600 rows x 4 columns]"
      ]
     },
     "execution_count": 38,
     "metadata": {},
     "output_type": "execute_result"
    }
   ],
   "source": [
    "ads_clicks"
   ]
  },
  {
   "cell_type": "code",
   "execution_count": 50,
   "metadata": {},
   "outputs": [],
   "source": [
    "# через statsmodels, только главные эффекты"
   ]
  },
  {
   "cell_type": "code",
   "execution_count": 40,
   "metadata": {},
   "outputs": [
    {
     "data": {
      "text/html": [
       "<div>\n",
       "<style scoped>\n",
       "    .dataframe tbody tr th:only-of-type {\n",
       "        vertical-align: middle;\n",
       "    }\n",
       "\n",
       "    .dataframe tbody tr th {\n",
       "        vertical-align: top;\n",
       "    }\n",
       "\n",
       "    .dataframe thead th {\n",
       "        text-align: right;\n",
       "    }\n",
       "</style>\n",
       "<table border=\"1\" class=\"dataframe\">\n",
       "  <thead>\n",
       "    <tr style=\"text-align: right;\">\n",
       "      <th></th>\n",
       "      <th>df</th>\n",
       "      <th>sum_sq</th>\n",
       "      <th>mean_sq</th>\n",
       "      <th>F</th>\n",
       "      <th>PR(&gt;F)</th>\n",
       "    </tr>\n",
       "  </thead>\n",
       "  <tbody>\n",
       "    <tr>\n",
       "      <th>C(ads)</th>\n",
       "      <td>1.0</td>\n",
       "      <td>33735.001667</td>\n",
       "      <td>33735.001667</td>\n",
       "      <td>68.810244</td>\n",
       "      <td>7.245176e-16</td>\n",
       "    </tr>\n",
       "    <tr>\n",
       "      <th>C(age_group)</th>\n",
       "      <td>2.0</td>\n",
       "      <td>400495.163333</td>\n",
       "      <td>200247.581667</td>\n",
       "      <td>408.450696</td>\n",
       "      <td>1.950084e-112</td>\n",
       "    </tr>\n",
       "    <tr>\n",
       "      <th>Residual</th>\n",
       "      <td>596.0</td>\n",
       "      <td>292195.753333</td>\n",
       "      <td>490.261331</td>\n",
       "      <td>NaN</td>\n",
       "      <td>NaN</td>\n",
       "    </tr>\n",
       "  </tbody>\n",
       "</table>\n",
       "</div>"
      ],
      "text/plain": [
       "                 df         sum_sq        mean_sq           F         PR(>F)\n",
       "C(ads)          1.0   33735.001667   33735.001667   68.810244   7.245176e-16\n",
       "C(age_group)    2.0  400495.163333  200247.581667  408.450696  1.950084e-112\n",
       "Residual      596.0  292195.753333     490.261331         NaN            NaN"
      ]
     },
     "execution_count": 40,
     "metadata": {},
     "output_type": "execute_result"
    }
   ],
   "source": [
    "model_main = smf.ols('clicks ~ C(ads) + C(age_group)', data=ads_clicks).fit()\n",
    "anova_lm(model_main)"
   ]
  },
  {
   "cell_type": "code",
   "execution_count": 45,
   "metadata": {},
   "outputs": [],
   "source": [
    "# полученный результат не учитывает взаимодействие следущих факторов:"
   ]
  },
  {
   "cell_type": "code",
   "execution_count": 46,
   "metadata": {},
   "outputs": [
    {
     "data": {
      "text/plain": [
       "<matplotlib.axes._subplots.AxesSubplot at 0x7f909d7977b8>"
      ]
     },
     "execution_count": 46,
     "metadata": {},
     "output_type": "execute_result"
    },
    {
     "data": {
      "image/png": "[encoded data removed]",
      "text/plain": [
       "<Figure size 432x288 with 1 Axes>"
      ]
     },
     "metadata": {
      "needs_background": "light"
     },
     "output_type": "display_data"
    }
   ],
   "source": [
    "# первый фактор\n",
    "\n",
    "sns.pointplot(data=ads_clicks, x='ads', y='clicks')"
   ]
  },
  {
   "cell_type": "code",
   "execution_count": 47,
   "metadata": {},
   "outputs": [
    {
     "data": {
      "text/plain": [
       "<matplotlib.axes._subplots.AxesSubplot at 0x7f909d8a4908>"
      ]
     },
     "execution_count": 47,
     "metadata": {},
     "output_type": "execute_result"
    },
    {
     "data": {
      "image/png": "[encoded data removed]",
      "text/plain": [
       "<Figure size 432x288 with 1 Axes>"
      ]
     },
     "metadata": {
      "needs_background": "light"
     },
     "output_type": "display_data"
    }
   ],
   "source": [
    "# второй фактор\n",
    "\n",
    "sns.pointplot(data=ads_clicks, x='age_group', y='clicks')"
   ]
  },
  {
   "cell_type": "code",
   "execution_count": 48,
   "metadata": {},
   "outputs": [
    {
     "data": {
      "text/html": [
       "<div>\n",
       "<style scoped>\n",
       "    .dataframe tbody tr th:only-of-type {\n",
       "        vertical-align: middle;\n",
       "    }\n",
       "\n",
       "    .dataframe tbody tr th {\n",
       "        vertical-align: top;\n",
       "    }\n",
       "\n",
       "    .dataframe thead th {\n",
       "        text-align: right;\n",
       "    }\n",
       "</style>\n",
       "<table border=\"1\" class=\"dataframe\">\n",
       "  <thead>\n",
       "    <tr style=\"text-align: right;\">\n",
       "      <th></th>\n",
       "      <th>df</th>\n",
       "      <th>sum_sq</th>\n",
       "      <th>mean_sq</th>\n",
       "      <th>F</th>\n",
       "      <th>PR(&gt;F)</th>\n",
       "    </tr>\n",
       "  </thead>\n",
       "  <tbody>\n",
       "    <tr>\n",
       "      <th>C(ads)</th>\n",
       "      <td>1.0</td>\n",
       "      <td>33735.001667</td>\n",
       "      <td>33735.001667</td>\n",
       "      <td>336.722432</td>\n",
       "      <td>6.446773e-60</td>\n",
       "    </tr>\n",
       "    <tr>\n",
       "      <th>C(age_group)</th>\n",
       "      <td>2.0</td>\n",
       "      <td>400495.163333</td>\n",
       "      <td>200247.581667</td>\n",
       "      <td>1998.750536</td>\n",
       "      <td>1.636934e-264</td>\n",
       "    </tr>\n",
       "    <tr>\n",
       "      <th>C(ads):C(age_group)</th>\n",
       "      <td>2.0</td>\n",
       "      <td>232685.043333</td>\n",
       "      <td>116342.521667</td>\n",
       "      <td>1161.260853</td>\n",
       "      <td>5.618312e-206</td>\n",
       "    </tr>\n",
       "    <tr>\n",
       "      <th>Residual</th>\n",
       "      <td>594.0</td>\n",
       "      <td>59510.710000</td>\n",
       "      <td>100.186380</td>\n",
       "      <td>NaN</td>\n",
       "      <td>NaN</td>\n",
       "    </tr>\n",
       "  </tbody>\n",
       "</table>\n",
       "</div>"
      ],
      "text/plain": [
       "                        df         sum_sq        mean_sq            F  \\\n",
       "C(ads)                 1.0   33735.001667   33735.001667   336.722432   \n",
       "C(age_group)           2.0  400495.163333  200247.581667  1998.750536   \n",
       "C(ads):C(age_group)    2.0  232685.043333  116342.521667  1161.260853   \n",
       "Residual             594.0   59510.710000     100.186380          NaN   \n",
       "\n",
       "                            PR(>F)  \n",
       "C(ads)                6.446773e-60  \n",
       "C(age_group)         1.636934e-264  \n",
       "C(ads):C(age_group)  5.618312e-206  \n",
       "Residual                       NaN  "
      ]
     },
     "execution_count": 48,
     "metadata": {},
     "output_type": "execute_result"
    }
   ],
   "source": [
    "# ВЗАИМОДЕЙСТВИЕ\n",
    "\n",
    "model_intercat = smf.ols('clicks ~ C(ads) + C(age_group) + C(ads):C(age_group)', data=ads_clicks).fit()\n",
    "anova_lm(model_intercat)"
   ]
  },
  {
   "cell_type": "code",
   "execution_count": 49,
   "metadata": {},
   "outputs": [
    {
     "data": {
      "text/plain": [
       "<matplotlib.axes._subplots.AxesSubplot at 0x7f909a2d6710>"
      ]
     },
     "execution_count": 49,
     "metadata": {},
     "output_type": "execute_result"
    },
    {
     "data": {
      "image/png": "[encoded data removed]",
      "text/plain": [
       "<Figure size 432x288 with 1 Axes>"
      ]
     },
     "metadata": {
      "needs_background": "light"
     },
     "output_type": "display_data"
    }
   ],
   "source": [
    "sns.pointplot(data=ads_clicks, x='ads', hue='age_group', y='clicks')"
   ]
  },
  {
   "cell_type": "code",
   "execution_count": null,
   "metadata": {},
   "outputs": [],
   "source": []
  },
  {
   "cell_type": "code",
   "execution_count": 51,
   "metadata": {},
   "outputs": [],
   "source": [
    "# через pingouin"
   ]
  },
  {
   "cell_type": "code",
   "execution_count": 52,
   "metadata": {},
   "outputs": [
    {
     "data": {
      "text/html": [
       "<div>\n",
       "<style scoped>\n",
       "    .dataframe tbody tr th:only-of-type {\n",
       "        vertical-align: middle;\n",
       "    }\n",
       "\n",
       "    .dataframe tbody tr th {\n",
       "        vertical-align: top;\n",
       "    }\n",
       "\n",
       "    .dataframe thead th {\n",
       "        text-align: right;\n",
       "    }\n",
       "</style>\n",
       "<table border=\"1\" class=\"dataframe\">\n",
       "  <thead>\n",
       "    <tr style=\"text-align: right;\">\n",
       "      <th></th>\n",
       "      <th>Source</th>\n",
       "      <th>SS</th>\n",
       "      <th>DF</th>\n",
       "      <th>MS</th>\n",
       "      <th>F</th>\n",
       "      <th>p-unc</th>\n",
       "      <th>np2</th>\n",
       "    </tr>\n",
       "  </thead>\n",
       "  <tbody>\n",
       "    <tr>\n",
       "      <th>0</th>\n",
       "      <td>ads</td>\n",
       "      <td>33735.001667</td>\n",
       "      <td>1</td>\n",
       "      <td>33735.001667</td>\n",
       "      <td>336.722432</td>\n",
       "      <td>6.446773e-60</td>\n",
       "      <td>0.361786</td>\n",
       "    </tr>\n",
       "    <tr>\n",
       "      <th>1</th>\n",
       "      <td>age_group</td>\n",
       "      <td>400495.163333</td>\n",
       "      <td>2</td>\n",
       "      <td>200247.581667</td>\n",
       "      <td>1998.750536</td>\n",
       "      <td>1.636934e-264</td>\n",
       "      <td>0.870631</td>\n",
       "    </tr>\n",
       "    <tr>\n",
       "      <th>2</th>\n",
       "      <td>ads * age_group</td>\n",
       "      <td>232685.043333</td>\n",
       "      <td>2</td>\n",
       "      <td>116342.521667</td>\n",
       "      <td>1161.260853</td>\n",
       "      <td>5.618312e-206</td>\n",
       "      <td>0.796333</td>\n",
       "    </tr>\n",
       "    <tr>\n",
       "      <th>3</th>\n",
       "      <td>Residual</td>\n",
       "      <td>59510.710000</td>\n",
       "      <td>594</td>\n",
       "      <td>100.186380</td>\n",
       "      <td>NaN</td>\n",
       "      <td>NaN</td>\n",
       "      <td>NaN</td>\n",
       "    </tr>\n",
       "  </tbody>\n",
       "</table>\n",
       "</div>"
      ],
      "text/plain": [
       "            Source             SS   DF             MS            F  \\\n",
       "0              ads   33735.001667    1   33735.001667   336.722432   \n",
       "1        age_group  400495.163333    2  200247.581667  1998.750536   \n",
       "2  ads * age_group  232685.043333    2  116342.521667  1161.260853   \n",
       "3         Residual   59510.710000  594     100.186380          NaN   \n",
       "\n",
       "           p-unc       np2  \n",
       "0   6.446773e-60  0.361786  \n",
       "1  1.636934e-264  0.870631  \n",
       "2  5.618312e-206  0.796333  \n",
       "3            NaN       NaN  "
      ]
     },
     "execution_count": 52,
     "metadata": {},
     "output_type": "execute_result"
    }
   ],
   "source": [
    "pg.anova(data=ads_clicks, dv='clicks', between=['ads', 'age_group'])"
   ]
  },
  {
   "cell_type": "code",
   "execution_count": 53,
   "metadata": {},
   "outputs": [
    {
     "data": {
      "text/html": [
       "<div>\n",
       "<style scoped>\n",
       "    .dataframe tbody tr th:only-of-type {\n",
       "        vertical-align: middle;\n",
       "    }\n",
       "\n",
       "    .dataframe tbody tr th {\n",
       "        vertical-align: top;\n",
       "    }\n",
       "\n",
       "    .dataframe thead th {\n",
       "        text-align: right;\n",
       "    }\n",
       "</style>\n",
       "<table border=\"1\" class=\"dataframe\">\n",
       "  <thead>\n",
       "    <tr style=\"text-align: right;\">\n",
       "      <th></th>\n",
       "      <th>Source</th>\n",
       "      <th>SS</th>\n",
       "      <th>DF</th>\n",
       "      <th>MS</th>\n",
       "      <th>F</th>\n",
       "      <th>p-unc</th>\n",
       "      <th>n2</th>\n",
       "    </tr>\n",
       "  </thead>\n",
       "  <tbody>\n",
       "    <tr>\n",
       "      <th>0</th>\n",
       "      <td>ads</td>\n",
       "      <td>33735.001667</td>\n",
       "      <td>1</td>\n",
       "      <td>33735.001667</td>\n",
       "      <td>336.722432</td>\n",
       "      <td>6.446773e-60</td>\n",
       "      <td>0.046440</td>\n",
       "    </tr>\n",
       "    <tr>\n",
       "      <th>1</th>\n",
       "      <td>age_group</td>\n",
       "      <td>400495.163333</td>\n",
       "      <td>2</td>\n",
       "      <td>200247.581667</td>\n",
       "      <td>1998.750536</td>\n",
       "      <td>1.636934e-264</td>\n",
       "      <td>0.551323</td>\n",
       "    </tr>\n",
       "    <tr>\n",
       "      <th>2</th>\n",
       "      <td>ads * age_group</td>\n",
       "      <td>232685.043333</td>\n",
       "      <td>2</td>\n",
       "      <td>116342.521667</td>\n",
       "      <td>1161.260853</td>\n",
       "      <td>5.618312e-206</td>\n",
       "      <td>0.320315</td>\n",
       "    </tr>\n",
       "    <tr>\n",
       "      <th>3</th>\n",
       "      <td>Residual</td>\n",
       "      <td>59510.710000</td>\n",
       "      <td>594</td>\n",
       "      <td>100.186380</td>\n",
       "      <td>NaN</td>\n",
       "      <td>NaN</td>\n",
       "      <td>NaN</td>\n",
       "    </tr>\n",
       "  </tbody>\n",
       "</table>\n",
       "</div>"
      ],
      "text/plain": [
       "            Source             SS   DF             MS            F  \\\n",
       "0              ads   33735.001667    1   33735.001667   336.722432   \n",
       "1        age_group  400495.163333    2  200247.581667  1998.750536   \n",
       "2  ads * age_group  232685.043333    2  116342.521667  1161.260853   \n",
       "3         Residual   59510.710000  594     100.186380          NaN   \n",
       "\n",
       "           p-unc        n2  \n",
       "0   6.446773e-60  0.046440  \n",
       "1  1.636934e-264  0.551323  \n",
       "2  5.618312e-206  0.320315  \n",
       "3            NaN       NaN  "
      ]
     },
     "execution_count": 53,
     "metadata": {},
     "output_type": "execute_result"
    }
   ],
   "source": [
    "# размер эффекта (n2 в сумме даст 100%, показывает насколько влияет каждая из групп)\n",
    "\n",
    "pg.anova(data=ads_clicks, dv='clicks', between=['ads', 'age_group'], effsize='n2')"
   ]
  },
  {
   "cell_type": "code",
   "execution_count": 60,
   "metadata": {},
   "outputs": [
    {
     "data": {
      "text/html": [
       "<div>\n",
       "<style scoped>\n",
       "    .dataframe tbody tr th:only-of-type {\n",
       "        vertical-align: middle;\n",
       "    }\n",
       "\n",
       "    .dataframe tbody tr th {\n",
       "        vertical-align: top;\n",
       "    }\n",
       "\n",
       "    .dataframe thead th {\n",
       "        text-align: right;\n",
       "    }\n",
       "</style>\n",
       "<table border=\"1\" class=\"dataframe\">\n",
       "  <thead>\n",
       "    <tr style=\"text-align: right;\">\n",
       "      <th></th>\n",
       "      <th>Source</th>\n",
       "      <th>SS</th>\n",
       "      <th>DF</th>\n",
       "      <th>MS</th>\n",
       "      <th>F</th>\n",
       "      <th>p-unc</th>\n",
       "      <th>np2</th>\n",
       "    </tr>\n",
       "  </thead>\n",
       "  <tbody>\n",
       "    <tr>\n",
       "      <th>0</th>\n",
       "      <td>ads</td>\n",
       "      <td>33735.001667</td>\n",
       "      <td>1</td>\n",
       "      <td>33735.001667</td>\n",
       "      <td>336.722432</td>\n",
       "      <td>6.446773e-60</td>\n",
       "      <td>0.361786</td>\n",
       "    </tr>\n",
       "    <tr>\n",
       "      <th>1</th>\n",
       "      <td>age_group</td>\n",
       "      <td>400495.163333</td>\n",
       "      <td>2</td>\n",
       "      <td>200247.581667</td>\n",
       "      <td>1998.750536</td>\n",
       "      <td>1.636934e-264</td>\n",
       "      <td>0.870631</td>\n",
       "    </tr>\n",
       "    <tr>\n",
       "      <th>2</th>\n",
       "      <td>ads * age_group</td>\n",
       "      <td>232685.043333</td>\n",
       "      <td>2</td>\n",
       "      <td>116342.521667</td>\n",
       "      <td>1161.260853</td>\n",
       "      <td>5.618312e-206</td>\n",
       "      <td>0.796333</td>\n",
       "    </tr>\n",
       "    <tr>\n",
       "      <th>3</th>\n",
       "      <td>Residual</td>\n",
       "      <td>59510.710000</td>\n",
       "      <td>594</td>\n",
       "      <td>100.186380</td>\n",
       "      <td>NaN</td>\n",
       "      <td>NaN</td>\n",
       "      <td>NaN</td>\n",
       "    </tr>\n",
       "  </tbody>\n",
       "</table>\n",
       "</div>"
      ],
      "text/plain": [
       "            Source             SS   DF             MS            F  \\\n",
       "0              ads   33735.001667    1   33735.001667   336.722432   \n",
       "1        age_group  400495.163333    2  200247.581667  1998.750536   \n",
       "2  ads * age_group  232685.043333    2  116342.521667  1161.260853   \n",
       "3         Residual   59510.710000  594     100.186380          NaN   \n",
       "\n",
       "           p-unc       np2  \n",
       "0   6.446773e-60  0.361786  \n",
       "1  1.636934e-264  0.870631  \n",
       "2  5.618312e-206  0.796333  \n",
       "3            NaN       NaN  "
      ]
     },
     "execution_count": 60,
     "metadata": {},
     "output_type": "execute_result"
    }
   ],
   "source": [
    "# тип суммы квадратов\n",
    "\n",
    "pg.anova(data=ads_clicks, dv='clicks', between=['ads', 'age_group'], ss_type=3)"
   ]
  },
  {
   "cell_type": "code",
   "execution_count": 61,
   "metadata": {},
   "outputs": [],
   "source": [
    "# для примера разбалансируем данные"
   ]
  },
  {
   "cell_type": "code",
   "execution_count": 62,
   "metadata": {},
   "outputs": [],
   "source": [
    "dat_unbalance = ads_clicks.query('id != \"S001\"')"
   ]
  },
  {
   "cell_type": "code",
   "execution_count": 64,
   "metadata": {},
   "outputs": [
    {
     "data": {
      "text/html": [
       "<div>\n",
       "<style scoped>\n",
       "    .dataframe tbody tr th:only-of-type {\n",
       "        vertical-align: middle;\n",
       "    }\n",
       "\n",
       "    .dataframe tbody tr th {\n",
       "        vertical-align: top;\n",
       "    }\n",
       "\n",
       "    .dataframe thead th {\n",
       "        text-align: right;\n",
       "    }\n",
       "</style>\n",
       "<table border=\"1\" class=\"dataframe\">\n",
       "  <thead>\n",
       "    <tr style=\"text-align: right;\">\n",
       "      <th></th>\n",
       "      <th>id</th>\n",
       "      <th>ads</th>\n",
       "      <th>age_group</th>\n",
       "      <th>clicks</th>\n",
       "    </tr>\n",
       "  </thead>\n",
       "  <tbody>\n",
       "    <tr>\n",
       "      <th>1</th>\n",
       "      <td>S002</td>\n",
       "      <td>classic</td>\n",
       "      <td>18-27</td>\n",
       "      <td>22</td>\n",
       "    </tr>\n",
       "    <tr>\n",
       "      <th>2</th>\n",
       "      <td>S003</td>\n",
       "      <td>classic</td>\n",
       "      <td>18-27</td>\n",
       "      <td>41</td>\n",
       "    </tr>\n",
       "    <tr>\n",
       "      <th>3</th>\n",
       "      <td>S004</td>\n",
       "      <td>classic</td>\n",
       "      <td>18-27</td>\n",
       "      <td>35</td>\n",
       "    </tr>\n",
       "    <tr>\n",
       "      <th>4</th>\n",
       "      <td>S005</td>\n",
       "      <td>classic</td>\n",
       "      <td>18-27</td>\n",
       "      <td>39</td>\n",
       "    </tr>\n",
       "    <tr>\n",
       "      <th>5</th>\n",
       "      <td>S006</td>\n",
       "      <td>classic</td>\n",
       "      <td>18-27</td>\n",
       "      <td>35</td>\n",
       "    </tr>\n",
       "  </tbody>\n",
       "</table>\n",
       "</div>"
      ],
      "text/plain": [
       "     id      ads age_group  clicks\n",
       "1  S002  classic     18-27      22\n",
       "2  S003  classic     18-27      41\n",
       "3  S004  classic     18-27      35\n",
       "4  S005  classic     18-27      39\n",
       "5  S006  classic     18-27      35"
      ]
     },
     "execution_count": 64,
     "metadata": {},
     "output_type": "execute_result"
    }
   ],
   "source": [
    "dat_unbalance.head()"
   ]
  },
  {
   "cell_type": "code",
   "execution_count": 67,
   "metadata": {},
   "outputs": [
    {
     "data": {
      "text/html": [
       "<div>\n",
       "<style scoped>\n",
       "    .dataframe tbody tr th:only-of-type {\n",
       "        vertical-align: middle;\n",
       "    }\n",
       "\n",
       "    .dataframe tbody tr th {\n",
       "        vertical-align: top;\n",
       "    }\n",
       "\n",
       "    .dataframe thead th {\n",
       "        text-align: right;\n",
       "    }\n",
       "</style>\n",
       "<table border=\"1\" class=\"dataframe\">\n",
       "  <thead>\n",
       "    <tr style=\"text-align: right;\">\n",
       "      <th></th>\n",
       "      <th>Source</th>\n",
       "      <th>SS</th>\n",
       "      <th>DF</th>\n",
       "      <th>MS</th>\n",
       "      <th>F</th>\n",
       "      <th>p-unc</th>\n",
       "      <th>np2</th>\n",
       "    </tr>\n",
       "  </thead>\n",
       "  <tbody>\n",
       "    <tr>\n",
       "      <th>0</th>\n",
       "      <td>ads</td>\n",
       "      <td>33803.779316</td>\n",
       "      <td>1.0</td>\n",
       "      <td>33803.779316</td>\n",
       "      <td>336.840901</td>\n",
       "      <td>6.486330e-60</td>\n",
       "      <td>0.362256</td>\n",
       "    </tr>\n",
       "    <tr>\n",
       "      <th>1</th>\n",
       "      <td>age_group</td>\n",
       "      <td>401187.127208</td>\n",
       "      <td>2.0</td>\n",
       "      <td>200593.563604</td>\n",
       "      <td>1998.833209</td>\n",
       "      <td>2.914479e-264</td>\n",
       "      <td>0.870825</td>\n",
       "    </tr>\n",
       "    <tr>\n",
       "      <th>2</th>\n",
       "      <td>ads * age_group</td>\n",
       "      <td>231923.625646</td>\n",
       "      <td>2.0</td>\n",
       "      <td>115961.812823</td>\n",
       "      <td>1155.512262</td>\n",
       "      <td>2.698570e-205</td>\n",
       "      <td>0.795801</td>\n",
       "    </tr>\n",
       "    <tr>\n",
       "      <th>3</th>\n",
       "      <td>Residual</td>\n",
       "      <td>59510.709899</td>\n",
       "      <td>593.0</td>\n",
       "      <td>100.355329</td>\n",
       "      <td>NaN</td>\n",
       "      <td>NaN</td>\n",
       "      <td>NaN</td>\n",
       "    </tr>\n",
       "  </tbody>\n",
       "</table>\n",
       "</div>"
      ],
      "text/plain": [
       "            Source             SS     DF             MS            F  \\\n",
       "0              ads   33803.779316    1.0   33803.779316   336.840901   \n",
       "1        age_group  401187.127208    2.0  200593.563604  1998.833209   \n",
       "2  ads * age_group  231923.625646    2.0  115961.812823  1155.512262   \n",
       "3         Residual   59510.709899  593.0     100.355329          NaN   \n",
       "\n",
       "           p-unc       np2  \n",
       "0   6.486330e-60  0.362256  \n",
       "1  2.914479e-264  0.870825  \n",
       "2  2.698570e-205  0.795801  \n",
       "3            NaN       NaN  "
      ]
     },
     "execution_count": 67,
     "metadata": {},
     "output_type": "execute_result"
    }
   ],
   "source": [
    "# тип суммы квадратов\n",
    "\n",
    "pg.anova(data=dat_unbalance, dv='clicks', between=['ads', 'age_group'], ss_type=1)"
   ]
  },
  {
   "cell_type": "code",
   "execution_count": 68,
   "metadata": {},
   "outputs": [
    {
     "data": {
      "text/html": [
       "<div>\n",
       "<style scoped>\n",
       "    .dataframe tbody tr th:only-of-type {\n",
       "        vertical-align: middle;\n",
       "    }\n",
       "\n",
       "    .dataframe tbody tr th {\n",
       "        vertical-align: top;\n",
       "    }\n",
       "\n",
       "    .dataframe thead th {\n",
       "        text-align: right;\n",
       "    }\n",
       "</style>\n",
       "<table border=\"1\" class=\"dataframe\">\n",
       "  <thead>\n",
       "    <tr style=\"text-align: right;\">\n",
       "      <th></th>\n",
       "      <th>Source</th>\n",
       "      <th>SS</th>\n",
       "      <th>DF</th>\n",
       "      <th>MS</th>\n",
       "      <th>F</th>\n",
       "      <th>p-unc</th>\n",
       "      <th>np2</th>\n",
       "    </tr>\n",
       "  </thead>\n",
       "  <tbody>\n",
       "    <tr>\n",
       "      <th>0</th>\n",
       "      <td>age_group</td>\n",
       "      <td>401187.127208</td>\n",
       "      <td>2.0</td>\n",
       "      <td>200593.563604</td>\n",
       "      <td>1998.833209</td>\n",
       "      <td>2.914479e-264</td>\n",
       "      <td>0.870825</td>\n",
       "    </tr>\n",
       "    <tr>\n",
       "      <th>1</th>\n",
       "      <td>ads</td>\n",
       "      <td>33265.263676</td>\n",
       "      <td>1.0</td>\n",
       "      <td>33265.263676</td>\n",
       "      <td>331.474812</td>\n",
       "      <td>3.626438e-59</td>\n",
       "      <td>0.358555</td>\n",
       "    </tr>\n",
       "    <tr>\n",
       "      <th>2</th>\n",
       "      <td>age_group * ads</td>\n",
       "      <td>231923.625646</td>\n",
       "      <td>2.0</td>\n",
       "      <td>115961.812823</td>\n",
       "      <td>1155.512262</td>\n",
       "      <td>2.698570e-205</td>\n",
       "      <td>0.795801</td>\n",
       "    </tr>\n",
       "    <tr>\n",
       "      <th>3</th>\n",
       "      <td>Residual</td>\n",
       "      <td>59510.709899</td>\n",
       "      <td>593.0</td>\n",
       "      <td>100.355329</td>\n",
       "      <td>NaN</td>\n",
       "      <td>NaN</td>\n",
       "      <td>NaN</td>\n",
       "    </tr>\n",
       "  </tbody>\n",
       "</table>\n",
       "</div>"
      ],
      "text/plain": [
       "            Source             SS     DF             MS            F  \\\n",
       "0        age_group  401187.127208    2.0  200593.563604  1998.833209   \n",
       "1              ads   33265.263676    1.0   33265.263676   331.474812   \n",
       "2  age_group * ads  231923.625646    2.0  115961.812823  1155.512262   \n",
       "3         Residual   59510.709899  593.0     100.355329          NaN   \n",
       "\n",
       "           p-unc       np2  \n",
       "0  2.914479e-264  0.870825  \n",
       "1   3.626438e-59  0.358555  \n",
       "2  2.698570e-205  0.795801  \n",
       "3            NaN       NaN  "
      ]
     },
     "execution_count": 68,
     "metadata": {},
     "output_type": "execute_result"
    }
   ],
   "source": [
    "# меняем местами age_groups и ads\n",
    "\n",
    "pg.anova(data=dat_unbalance, dv='clicks', between=['age_group', 'ads'], ss_type=1)"
   ]
  },
  {
   "cell_type": "code",
   "execution_count": 69,
   "metadata": {},
   "outputs": [
    {
     "data": {
      "text/html": [
       "<div>\n",
       "<style scoped>\n",
       "    .dataframe tbody tr th:only-of-type {\n",
       "        vertical-align: middle;\n",
       "    }\n",
       "\n",
       "    .dataframe tbody tr th {\n",
       "        vertical-align: top;\n",
       "    }\n",
       "\n",
       "    .dataframe thead th {\n",
       "        text-align: right;\n",
       "    }\n",
       "</style>\n",
       "<table border=\"1\" class=\"dataframe\">\n",
       "  <thead>\n",
       "    <tr style=\"text-align: right;\">\n",
       "      <th></th>\n",
       "      <th>Source</th>\n",
       "      <th>SS</th>\n",
       "      <th>DF</th>\n",
       "      <th>MS</th>\n",
       "      <th>F</th>\n",
       "      <th>p-unc</th>\n",
       "      <th>np2</th>\n",
       "    </tr>\n",
       "  </thead>\n",
       "  <tbody>\n",
       "    <tr>\n",
       "      <th>0</th>\n",
       "      <td>age_group</td>\n",
       "      <td>401187.127208</td>\n",
       "      <td>2.0</td>\n",
       "      <td>200593.563604</td>\n",
       "      <td>1998.833209</td>\n",
       "      <td>2.914479e-264</td>\n",
       "      <td>0.870825</td>\n",
       "    </tr>\n",
       "    <tr>\n",
       "      <th>1</th>\n",
       "      <td>ads</td>\n",
       "      <td>33265.263676</td>\n",
       "      <td>1.0</td>\n",
       "      <td>33265.263676</td>\n",
       "      <td>331.474812</td>\n",
       "      <td>3.626438e-59</td>\n",
       "      <td>0.358555</td>\n",
       "    </tr>\n",
       "    <tr>\n",
       "      <th>2</th>\n",
       "      <td>age_group * ads</td>\n",
       "      <td>231923.625646</td>\n",
       "      <td>2.0</td>\n",
       "      <td>115961.812823</td>\n",
       "      <td>1155.512262</td>\n",
       "      <td>2.698570e-205</td>\n",
       "      <td>0.795801</td>\n",
       "    </tr>\n",
       "    <tr>\n",
       "      <th>3</th>\n",
       "      <td>Residual</td>\n",
       "      <td>59510.709899</td>\n",
       "      <td>593.0</td>\n",
       "      <td>100.355329</td>\n",
       "      <td>NaN</td>\n",
       "      <td>NaN</td>\n",
       "      <td>NaN</td>\n",
       "    </tr>\n",
       "  </tbody>\n",
       "</table>\n",
       "</div>"
      ],
      "text/plain": [
       "            Source             SS     DF             MS            F  \\\n",
       "0        age_group  401187.127208    2.0  200593.563604  1998.833209   \n",
       "1              ads   33265.263676    1.0   33265.263676   331.474812   \n",
       "2  age_group * ads  231923.625646    2.0  115961.812823  1155.512262   \n",
       "3         Residual   59510.709899  593.0     100.355329          NaN   \n",
       "\n",
       "           p-unc       np2  \n",
       "0  2.914479e-264  0.870825  \n",
       "1   3.626438e-59  0.358555  \n",
       "2  2.698570e-205  0.795801  \n",
       "3            NaN       NaN  "
      ]
     },
     "execution_count": 69,
     "metadata": {},
     "output_type": "execute_result"
    }
   ],
   "source": [
    "# теперь меняем тип ss_type \n",
    "\n",
    "pg.anova(data=dat_unbalance, dv='clicks', between=['age_group', 'ads'], ss_type=2)"
   ]
  },
  {
   "cell_type": "code",
   "execution_count": 70,
   "metadata": {},
   "outputs": [
    {
     "data": {
      "text/html": [
       "<div>\n",
       "<style scoped>\n",
       "    .dataframe tbody tr th:only-of-type {\n",
       "        vertical-align: middle;\n",
       "    }\n",
       "\n",
       "    .dataframe tbody tr th {\n",
       "        vertical-align: top;\n",
       "    }\n",
       "\n",
       "    .dataframe thead th {\n",
       "        text-align: right;\n",
       "    }\n",
       "</style>\n",
       "<table border=\"1\" class=\"dataframe\">\n",
       "  <thead>\n",
       "    <tr style=\"text-align: right;\">\n",
       "      <th></th>\n",
       "      <th>Source</th>\n",
       "      <th>SS</th>\n",
       "      <th>DF</th>\n",
       "      <th>MS</th>\n",
       "      <th>F</th>\n",
       "      <th>p-unc</th>\n",
       "      <th>np2</th>\n",
       "    </tr>\n",
       "  </thead>\n",
       "  <tbody>\n",
       "    <tr>\n",
       "      <th>0</th>\n",
       "      <td>age_group</td>\n",
       "      <td>399202.638264</td>\n",
       "      <td>2.0</td>\n",
       "      <td>199601.319132</td>\n",
       "      <td>1988.945896</td>\n",
       "      <td>1.048185e-263</td>\n",
       "      <td>0.870266</td>\n",
       "    </tr>\n",
       "    <tr>\n",
       "      <th>1</th>\n",
       "      <td>ads</td>\n",
       "      <td>33678.455412</td>\n",
       "      <td>1.0</td>\n",
       "      <td>33678.455412</td>\n",
       "      <td>335.592099</td>\n",
       "      <td>9.673077e-60</td>\n",
       "      <td>0.361399</td>\n",
       "    </tr>\n",
       "    <tr>\n",
       "      <th>2</th>\n",
       "      <td>age_group * ads</td>\n",
       "      <td>231923.625646</td>\n",
       "      <td>2.0</td>\n",
       "      <td>115961.812823</td>\n",
       "      <td>1155.512262</td>\n",
       "      <td>2.698570e-205</td>\n",
       "      <td>0.795801</td>\n",
       "    </tr>\n",
       "    <tr>\n",
       "      <th>3</th>\n",
       "      <td>Residual</td>\n",
       "      <td>59510.709899</td>\n",
       "      <td>593.0</td>\n",
       "      <td>100.355329</td>\n",
       "      <td>NaN</td>\n",
       "      <td>NaN</td>\n",
       "      <td>NaN</td>\n",
       "    </tr>\n",
       "  </tbody>\n",
       "</table>\n",
       "</div>"
      ],
      "text/plain": [
       "            Source             SS     DF             MS            F  \\\n",
       "0        age_group  399202.638264    2.0  199601.319132  1988.945896   \n",
       "1              ads   33678.455412    1.0   33678.455412   335.592099   \n",
       "2  age_group * ads  231923.625646    2.0  115961.812823  1155.512262   \n",
       "3         Residual   59510.709899  593.0     100.355329          NaN   \n",
       "\n",
       "           p-unc       np2  \n",
       "0  1.048185e-263  0.870266  \n",
       "1   9.673077e-60  0.361399  \n",
       "2  2.698570e-205  0.795801  \n",
       "3            NaN       NaN  "
      ]
     },
     "execution_count": 70,
     "metadata": {},
     "output_type": "execute_result"
    }
   ],
   "source": [
    "# теперь меняем тип ss_type \n",
    "\n",
    "pg.anova(data=dat_unbalance, dv='clicks', between=['age_group', 'ads'], ss_type=3)"
   ]
  },
  {
   "cell_type": "code",
   "execution_count": null,
   "metadata": {},
   "outputs": [],
   "source": []
  }
 ],
 "metadata": {
  "kernelspec": {
   "display_name": "Python 3",
   "language": "python",
   "name": "python3"
  },
  "language_info": {
   "codemirror_mode": {
    "name": "ipython",
    "version": 3
   },
   "file_extension": ".py",
   "mimetype": "text/x-python",
   "name": "python",
   "nbconvert_exporter": "python",
   "pygments_lexer": "ipython3",
   "version": "3.7.3"
  }
 },
 "nbformat": 4,
 "nbformat_minor": 4
}
